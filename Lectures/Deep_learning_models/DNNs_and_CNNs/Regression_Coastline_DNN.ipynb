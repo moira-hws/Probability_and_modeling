{
 "cells": [
  {
   "cell_type": "code",
   "execution_count": 1,
   "metadata": {
    "colab": {
     "base_uri": "https://localhost:8080/"
    },
    "executionInfo": {
     "elapsed": 6913,
     "status": "ok",
     "timestamp": 1614108606889,
     "user": {
      "displayName": "Yingjie Hu",
      "photoUrl": "https://lh3.googleusercontent.com/a-/AOh14GhQXNgYXyAZZlgqZjEhpeA47a8-StHEsk3hftJsYg=s64",
      "userId": "12178979804161638768"
     },
     "user_tz": 300
    },
    "id": "eqy1Na1iML4d",
    "outputId": "76ddc866-a7eb-4dbd-9a65-6f60e3be6b18"
   },
   "outputs": [
    {
     "name": "stdout",
     "output_type": "stream",
     "text": [
      "Collecting GeoPandas\n",
      "\u001b[?25l  Downloading https://files.pythonhosted.org/packages/2a/9f/e8a440a993e024c0d3d4e5c7d3346367c50c9a1a3d735caf5ee3bde0aab1/geopandas-0.8.2-py2.py3-none-any.whl (962kB)\n",
      "\r\u001b[K     |▍                               | 10kB 20.1MB/s eta 0:00:01\r\u001b[K     |▊                               | 20kB 26.3MB/s eta 0:00:01\r\u001b[K     |█                               | 30kB 28.3MB/s eta 0:00:01\r\u001b[K     |█▍                              | 40kB 29.9MB/s eta 0:00:01\r\u001b[K     |█▊                              | 51kB 31.9MB/s eta 0:00:01\r\u001b[K     |██                              | 61kB 34.2MB/s eta 0:00:01\r\u001b[K     |██▍                             | 71kB 21.1MB/s eta 0:00:01\r\u001b[K     |██▊                             | 81kB 21.1MB/s eta 0:00:01\r\u001b[K     |███                             | 92kB 19.9MB/s eta 0:00:01\r\u001b[K     |███▍                            | 102kB 21.0MB/s eta 0:00:01\r\u001b[K     |███▊                            | 112kB 21.0MB/s eta 0:00:01\r\u001b[K     |████                            | 122kB 21.0MB/s eta 0:00:01\r\u001b[K     |████▍                           | 133kB 21.0MB/s eta 0:00:01\r\u001b[K     |████▊                           | 143kB 21.0MB/s eta 0:00:01\r\u001b[K     |█████                           | 153kB 21.0MB/s eta 0:00:01\r\u001b[K     |█████▌                          | 163kB 21.0MB/s eta 0:00:01\r\u001b[K     |█████▉                          | 174kB 21.0MB/s eta 0:00:01\r\u001b[K     |██████▏                         | 184kB 21.0MB/s eta 0:00:01\r\u001b[K     |██████▌                         | 194kB 21.0MB/s eta 0:00:01\r\u001b[K     |██████▉                         | 204kB 21.0MB/s eta 0:00:01\r\u001b[K     |███████▏                        | 215kB 21.0MB/s eta 0:00:01\r\u001b[K     |███████▌                        | 225kB 21.0MB/s eta 0:00:01\r\u001b[K     |███████▉                        | 235kB 21.0MB/s eta 0:00:01\r\u001b[K     |████████▏                       | 245kB 21.0MB/s eta 0:00:01\r\u001b[K     |████████▌                       | 256kB 21.0MB/s eta 0:00:01\r\u001b[K     |████████▉                       | 266kB 21.0MB/s eta 0:00:01\r\u001b[K     |█████████▏                      | 276kB 21.0MB/s eta 0:00:01\r\u001b[K     |█████████▌                      | 286kB 21.0MB/s eta 0:00:01\r\u001b[K     |█████████▉                      | 296kB 21.0MB/s eta 0:00:01\r\u001b[K     |██████████▏                     | 307kB 21.0MB/s eta 0:00:01\r\u001b[K     |██████████▌                     | 317kB 21.0MB/s eta 0:00:01\r\u001b[K     |███████████                     | 327kB 21.0MB/s eta 0:00:01\r\u001b[K     |███████████▎                    | 337kB 21.0MB/s eta 0:00:01\r\u001b[K     |███████████▋                    | 348kB 21.0MB/s eta 0:00:01\r\u001b[K     |████████████                    | 358kB 21.0MB/s eta 0:00:01\r\u001b[K     |████████████▎                   | 368kB 21.0MB/s eta 0:00:01\r\u001b[K     |████████████▋                   | 378kB 21.0MB/s eta 0:00:01\r\u001b[K     |█████████████                   | 389kB 21.0MB/s eta 0:00:01\r\u001b[K     |█████████████▎                  | 399kB 21.0MB/s eta 0:00:01\r\u001b[K     |█████████████▋                  | 409kB 21.0MB/s eta 0:00:01\r\u001b[K     |██████████████                  | 419kB 21.0MB/s eta 0:00:01\r\u001b[K     |██████████████▎                 | 430kB 21.0MB/s eta 0:00:01\r\u001b[K     |██████████████▋                 | 440kB 21.0MB/s eta 0:00:01\r\u001b[K     |███████████████                 | 450kB 21.0MB/s eta 0:00:01\r\u001b[K     |███████████████▎                | 460kB 21.0MB/s eta 0:00:01\r\u001b[K     |███████████████▋                | 471kB 21.0MB/s eta 0:00:01\r\u001b[K     |████████████████                | 481kB 21.0MB/s eta 0:00:01\r\u001b[K     |████████████████▍               | 491kB 21.0MB/s eta 0:00:01\r\u001b[K     |████████████████▊               | 501kB 21.0MB/s eta 0:00:01\r\u001b[K     |█████████████████               | 512kB 21.0MB/s eta 0:00:01\r\u001b[K     |█████████████████▍              | 522kB 21.0MB/s eta 0:00:01\r\u001b[K     |█████████████████▊              | 532kB 21.0MB/s eta 0:00:01\r\u001b[K     |██████████████████              | 542kB 21.0MB/s eta 0:00:01\r\u001b[K     |██████████████████▍             | 552kB 21.0MB/s eta 0:00:01\r\u001b[K     |██████████████████▊             | 563kB 21.0MB/s eta 0:00:01\r\u001b[K     |███████████████████             | 573kB 21.0MB/s eta 0:00:01\r\u001b[K     |███████████████████▍            | 583kB 21.0MB/s eta 0:00:01\r\u001b[K     |███████████████████▊            | 593kB 21.0MB/s eta 0:00:01\r\u001b[K     |████████████████████            | 604kB 21.0MB/s eta 0:00:01\r\u001b[K     |████████████████████▍           | 614kB 21.0MB/s eta 0:00:01\r\u001b[K     |████████████████████▊           | 624kB 21.0MB/s eta 0:00:01\r\u001b[K     |█████████████████████           | 634kB 21.0MB/s eta 0:00:01\r\u001b[K     |█████████████████████▍          | 645kB 21.0MB/s eta 0:00:01\r\u001b[K     |█████████████████████▉          | 655kB 21.0MB/s eta 0:00:01\r\u001b[K     |██████████████████████▏         | 665kB 21.0MB/s eta 0:00:01\r\u001b[K     |██████████████████████▌         | 675kB 21.0MB/s eta 0:00:01\r\u001b[K     |██████████████████████▉         | 686kB 21.0MB/s eta 0:00:01\r\u001b[K     |███████████████████████▏        | 696kB 21.0MB/s eta 0:00:01\r\u001b[K     |███████████████████████▌        | 706kB 21.0MB/s eta 0:00:01\r\u001b[K     |███████████████████████▉        | 716kB 21.0MB/s eta 0:00:01\r\u001b[K     |████████████████████████▏       | 727kB 21.0MB/s eta 0:00:01\r\u001b[K     |████████████████████████▌       | 737kB 21.0MB/s eta 0:00:01\r\u001b[K     |████████████████████████▉       | 747kB 21.0MB/s eta 0:00:01\r\u001b[K     |█████████████████████████▏      | 757kB 21.0MB/s eta 0:00:01\r\u001b[K     |█████████████████████████▌      | 768kB 21.0MB/s eta 0:00:01\r\u001b[K     |█████████████████████████▉      | 778kB 21.0MB/s eta 0:00:01\r\u001b[K     |██████████████████████████▏     | 788kB 21.0MB/s eta 0:00:01\r\u001b[K     |██████████████████████████▌     | 798kB 21.0MB/s eta 0:00:01\r\u001b[K     |██████████████████████████▉     | 808kB 21.0MB/s eta 0:00:01\r\u001b[K     |███████████████████████████▎    | 819kB 21.0MB/s eta 0:00:01\r\u001b[K     |███████████████████████████▋    | 829kB 21.0MB/s eta 0:00:01\r\u001b[K     |████████████████████████████    | 839kB 21.0MB/s eta 0:00:01\r\u001b[K     |████████████████████████████▎   | 849kB 21.0MB/s eta 0:00:01\r\u001b[K     |████████████████████████████▋   | 860kB 21.0MB/s eta 0:00:01\r\u001b[K     |█████████████████████████████   | 870kB 21.0MB/s eta 0:00:01\r\u001b[K     |█████████████████████████████▎  | 880kB 21.0MB/s eta 0:00:01\r\u001b[K     |█████████████████████████████▋  | 890kB 21.0MB/s eta 0:00:01\r\u001b[K     |██████████████████████████████  | 901kB 21.0MB/s eta 0:00:01\r\u001b[K     |██████████████████████████████▎ | 911kB 21.0MB/s eta 0:00:01\r\u001b[K     |██████████████████████████████▋ | 921kB 21.0MB/s eta 0:00:01\r\u001b[K     |███████████████████████████████ | 931kB 21.0MB/s eta 0:00:01\r\u001b[K     |███████████████████████████████▎| 942kB 21.0MB/s eta 0:00:01\r\u001b[K     |███████████████████████████████▋| 952kB 21.0MB/s eta 0:00:01\r\u001b[K     |████████████████████████████████| 962kB 21.0MB/s eta 0:00:01\r\u001b[K     |████████████████████████████████| 972kB 21.0MB/s \n",
      "\u001b[?25hRequirement already satisfied: shapely in /usr/local/lib/python3.7/dist-packages (from GeoPandas) (1.7.1)\n",
      "Collecting fiona\n",
      "\u001b[?25l  Downloading https://files.pythonhosted.org/packages/47/c2/67d1d0acbaaee3b03e5e22e3b96c33219cb5dd392531c9ff9cee7c2eb3e4/Fiona-1.8.18-cp37-cp37m-manylinux1_x86_64.whl (14.8MB)\n",
      "\u001b[K     |████████████████████████████████| 14.8MB 209kB/s \n",
      "\u001b[?25hRequirement already satisfied: pandas>=0.23.0 in /usr/local/lib/python3.7/dist-packages (from GeoPandas) (1.1.5)\n",
      "Collecting pyproj>=2.2.0\n",
      "\u001b[?25l  Downloading https://files.pythonhosted.org/packages/05/0c/d7c2c7c370ea5368b813a44e772247ed1a461dc47de70c5d02e079abc7e0/pyproj-3.0.0.post1-cp37-cp37m-manylinux2010_x86_64.whl (6.4MB)\n",
      "\u001b[K     |████████████████████████████████| 6.5MB 46.2MB/s \n",
      "\u001b[?25hRequirement already satisfied: attrs>=17 in /usr/local/lib/python3.7/dist-packages (from fiona->GeoPandas) (20.3.0)\n",
      "Collecting cligj>=0.5\n",
      "  Downloading https://files.pythonhosted.org/packages/42/1e/947eadf10d6804bf276eb8a038bd5307996dceaaa41cfd21b7a15ec62f5d/cligj-0.7.1-py3-none-any.whl\n",
      "Collecting munch\n",
      "  Downloading https://files.pythonhosted.org/packages/cc/ab/85d8da5c9a45e072301beb37ad7f833cd344e04c817d97e0cc75681d248f/munch-2.5.0-py2.py3-none-any.whl\n",
      "Requirement already satisfied: certifi in /usr/local/lib/python3.7/dist-packages (from fiona->GeoPandas) (2020.12.5)\n",
      "Requirement already satisfied: click<8,>=4.0 in /usr/local/lib/python3.7/dist-packages (from fiona->GeoPandas) (7.1.2)\n",
      "Requirement already satisfied: six>=1.7 in /usr/local/lib/python3.7/dist-packages (from fiona->GeoPandas) (1.15.0)\n",
      "Collecting click-plugins>=1.0\n",
      "  Downloading https://files.pythonhosted.org/packages/e9/da/824b92d9942f4e472702488857914bdd50f73021efea15b4cad9aca8ecef/click_plugins-1.1.1-py2.py3-none-any.whl\n",
      "Requirement already satisfied: pytz>=2017.2 in /usr/local/lib/python3.7/dist-packages (from pandas>=0.23.0->GeoPandas) (2018.9)\n",
      "Requirement already satisfied: python-dateutil>=2.7.3 in /usr/local/lib/python3.7/dist-packages (from pandas>=0.23.0->GeoPandas) (2.8.1)\n",
      "Requirement already satisfied: numpy>=1.15.4 in /usr/local/lib/python3.7/dist-packages (from pandas>=0.23.0->GeoPandas) (1.19.5)\n",
      "Installing collected packages: cligj, munch, click-plugins, fiona, pyproj, GeoPandas\n",
      "Successfully installed GeoPandas-0.8.2 click-plugins-1.1.1 cligj-0.7.1 fiona-1.8.18 munch-2.5.0 pyproj-3.0.0.post1\n"
     ]
    }
   ],
   "source": [
    "!pip install GeoPandas"
   ]
  },
  {
   "cell_type": "code",
   "execution_count": 2,
   "metadata": {
    "executionInfo": {
     "elapsed": 387,
     "status": "ok",
     "timestamp": 1614108612124,
     "user": {
      "displayName": "Yingjie Hu",
      "photoUrl": "https://lh3.googleusercontent.com/a-/AOh14GhQXNgYXyAZZlgqZjEhpeA47a8-StHEsk3hftJsYg=s64",
      "userId": "12178979804161638768"
     },
     "user_tz": 300
    },
    "id": "F9tR_jxVNAka"
   },
   "outputs": [],
   "source": [
    "import geopandas as gpd"
   ]
  },
  {
   "cell_type": "code",
   "execution_count": 3,
   "metadata": {
    "executionInfo": {
     "elapsed": 4458,
     "status": "ok",
     "timestamp": 1614108656637,
     "user": {
      "displayName": "Yingjie Hu",
      "photoUrl": "https://lh3.googleusercontent.com/a-/AOh14GhQXNgYXyAZZlgqZjEhpeA47a8-StHEsk3hftJsYg=s64",
      "userId": "12178979804161638768"
     },
     "user_tz": 300
    },
    "id": "2Do6nnW8NH2W"
   },
   "outputs": [],
   "source": [
    "coastline_attr_gpd = gpd.read_file(\"/content/drive/MyDrive/GEO503_AIforGeoApplications/Data/coastline_marine_attr.shp\")"
   ]
  },
  {
   "cell_type": "code",
   "execution_count": 4,
   "metadata": {
    "colab": {
     "base_uri": "https://localhost:8080/",
     "height": 244
    },
    "executionInfo": {
     "elapsed": 936,
     "status": "ok",
     "timestamp": 1614108669763,
     "user": {
      "displayName": "Yingjie Hu",
      "photoUrl": "https://lh3.googleusercontent.com/a-/AOh14GhQXNgYXyAZZlgqZjEhpeA47a8-StHEsk3hftJsYg=s64",
      "userId": "12178979804161638768"
     },
     "user_tz": 300
    },
    "id": "GB5JFJcaNYVh",
    "outputId": "f1844f4b-c0fc-484d-a8a0-2e960733af7b"
   },
   "outputs": [
    {
     "data": {
      "text/plain": [
       "<matplotlib.axes._subplots.AxesSubplot at 0x7f7e8c27ad90>"
      ]
     },
     "execution_count": 4,
     "metadata": {
      "tags": []
     },
     "output_type": "execute_result"
    },
    {
     "data": {
      "image/png": "[encoded data removed]",
      "text/plain": [
       "<Figure size 432x288 with 1 Axes>"
      ]
     },
     "metadata": {
      "needs_background": "light",
      "tags": []
     },
     "output_type": "display_data"
    }
   ],
   "source": [
    "coastline_attr_gpd.plot()"
   ]
  },
  {
   "cell_type": "code",
   "execution_count": 5,
   "metadata": {
    "colab": {
     "base_uri": "https://localhost:8080/"
    },
    "executionInfo": {
     "elapsed": 196,
     "status": "ok",
     "timestamp": 1614108718483,
     "user": {
      "displayName": "Yingjie Hu",
      "photoUrl": "https://lh3.googleusercontent.com/a-/AOh14GhQXNgYXyAZZlgqZjEhpeA47a8-StHEsk3hftJsYg=s64",
      "userId": "12178979804161638768"
     },
     "user_tz": 300
    },
    "id": "EBvTswxdNa-t",
    "outputId": "787b8398-42d3-424f-8140-5a87983976ec"
   },
   "outputs": [
    {
     "data": {
      "text/plain": [
       "geopandas.geodataframe.GeoDataFrame"
      ]
     },
     "execution_count": 5,
     "metadata": {
      "tags": []
     },
     "output_type": "execute_result"
    }
   ],
   "source": [
    "type(coastline_attr_gpd)"
   ]
  },
  {
   "cell_type": "code",
   "execution_count": 6,
   "metadata": {
    "colab": {
     "base_uri": "https://localhost:8080/",
     "height": 204
    },
    "executionInfo": {
     "elapsed": 243,
     "status": "ok",
     "timestamp": 1614108734735,
     "user": {
      "displayName": "Yingjie Hu",
      "photoUrl": "https://lh3.googleusercontent.com/a-/AOh14GhQXNgYXyAZZlgqZjEhpeA47a8-StHEsk3hftJsYg=s64",
      "userId": "12178979804161638768"
     },
     "user_tz": 300
    },
    "id": "tVsrKJx-Nfcb",
    "outputId": "228e0727-2f66-4b4a-be9e-43059144ae05"
   },
   "outputs": [
    {
     "data": {
      "text/html": [
       "<div>\n",
       "<style scoped>\n",
       "    .dataframe tbody tr th:only-of-type {\n",
       "        vertical-align: middle;\n",
       "    }\n",
       "\n",
       "    .dataframe tbody tr th {\n",
       "        vertical-align: top;\n",
       "    }\n",
       "\n",
       "    .dataframe thead th {\n",
       "        text-align: right;\n",
       "    }\n",
       "</style>\n",
       "<table border=\"1\" class=\"dataframe\">\n",
       "  <thead>\n",
       "    <tr style=\"text-align: right;\">\n",
       "      <th></th>\n",
       "      <th>CID</th>\n",
       "      <th>salinity</th>\n",
       "      <th>srtm30</th>\n",
       "      <th>silicate</th>\n",
       "      <th>phosphate</th>\n",
       "      <th>nitrate</th>\n",
       "      <th>disso2</th>\n",
       "      <th>temp</th>\n",
       "      <th>geometry</th>\n",
       "    </tr>\n",
       "  </thead>\n",
       "  <tbody>\n",
       "    <tr>\n",
       "      <th>0</th>\n",
       "      <td>1</td>\n",
       "      <td>36.1645</td>\n",
       "      <td>-13.54730</td>\n",
       "      <td>2.14787</td>\n",
       "      <td>0.085490</td>\n",
       "      <td>0.672583</td>\n",
       "      <td>4.73538</td>\n",
       "      <td>26.0314</td>\n",
       "      <td>POINT (-82.22100 24.50021)</td>\n",
       "    </tr>\n",
       "    <tr>\n",
       "      <th>1</th>\n",
       "      <td>1</td>\n",
       "      <td>35.8820</td>\n",
       "      <td>-5.29631</td>\n",
       "      <td>3.39048</td>\n",
       "      <td>0.081309</td>\n",
       "      <td>0.589654</td>\n",
       "      <td>4.82170</td>\n",
       "      <td>26.2659</td>\n",
       "      <td>POINT (-81.16694 25.14926)</td>\n",
       "    </tr>\n",
       "    <tr>\n",
       "      <th>2</th>\n",
       "      <td>1</td>\n",
       "      <td>28.2685</td>\n",
       "      <td>5.36795</td>\n",
       "      <td>4.50515</td>\n",
       "      <td>0.220880</td>\n",
       "      <td>1.225100</td>\n",
       "      <td>4.74903</td>\n",
       "      <td>23.2961</td>\n",
       "      <td>POINT (-90.58674 29.24938)</td>\n",
       "    </tr>\n",
       "    <tr>\n",
       "      <th>3</th>\n",
       "      <td>1</td>\n",
       "      <td>27.8134</td>\n",
       "      <td>-11.50460</td>\n",
       "      <td>2.30621</td>\n",
       "      <td>0.353542</td>\n",
       "      <td>2.226290</td>\n",
       "      <td>5.55894</td>\n",
       "      <td>14.3673</td>\n",
       "      <td>POINT (-76.05466 36.96940)</td>\n",
       "    </tr>\n",
       "    <tr>\n",
       "      <th>4</th>\n",
       "      <td>1</td>\n",
       "      <td>16.0193</td>\n",
       "      <td>-4.73809</td>\n",
       "      <td>2.47356</td>\n",
       "      <td>0.409711</td>\n",
       "      <td>2.607220</td>\n",
       "      <td>5.76708</td>\n",
       "      <td>13.9874</td>\n",
       "      <td>POINT (-76.38891 39.27398)</td>\n",
       "    </tr>\n",
       "  </tbody>\n",
       "</table>\n",
       "</div>"
      ],
      "text/plain": [
       "   CID  salinity    srtm30  ...   disso2     temp                    geometry\n",
       "0    1   36.1645 -13.54730  ...  4.73538  26.0314  POINT (-82.22100 24.50021)\n",
       "1    1   35.8820  -5.29631  ...  4.82170  26.2659  POINT (-81.16694 25.14926)\n",
       "2    1   28.2685   5.36795  ...  4.74903  23.2961  POINT (-90.58674 29.24938)\n",
       "3    1   27.8134 -11.50460  ...  5.55894  14.3673  POINT (-76.05466 36.96940)\n",
       "4    1   16.0193  -4.73809  ...  5.76708  13.9874  POINT (-76.38891 39.27398)\n",
       "\n",
       "[5 rows x 9 columns]"
      ]
     },
     "execution_count": 6,
     "metadata": {
      "tags": []
     },
     "output_type": "execute_result"
    }
   ],
   "source": [
    "coastline_attr_gpd.head()"
   ]
  },
  {
   "cell_type": "code",
   "execution_count": 7,
   "metadata": {
    "colab": {
     "base_uri": "https://localhost:8080/"
    },
    "executionInfo": {
     "elapsed": 222,
     "status": "ok",
     "timestamp": 1614108776026,
     "user": {
      "displayName": "Yingjie Hu",
      "photoUrl": "https://lh3.googleusercontent.com/a-/AOh14GhQXNgYXyAZZlgqZjEhpeA47a8-StHEsk3hftJsYg=s64",
      "userId": "12178979804161638768"
     },
     "user_tz": 300
    },
    "id": "oFDNUqKPYSTq",
    "outputId": "3a6b99ca-c8b5-4c47-db9f-ad70b2e46950"
   },
   "outputs": [
    {
     "data": {
      "text/plain": [
       "(10000, 9)"
      ]
     },
     "execution_count": 7,
     "metadata": {
      "tags": []
     },
     "output_type": "execute_result"
    }
   ],
   "source": [
    "coastline_attr_gpd.shape"
   ]
  },
  {
   "cell_type": "code",
   "execution_count": 8,
   "metadata": {
    "colab": {
     "base_uri": "https://localhost:8080/",
     "height": 394
    },
    "executionInfo": {
     "elapsed": 459,
     "status": "ok",
     "timestamp": 1614109034579,
     "user": {
      "displayName": "Yingjie Hu",
      "photoUrl": "https://lh3.googleusercontent.com/a-/AOh14GhQXNgYXyAZZlgqZjEhpeA47a8-StHEsk3hftJsYg=s64",
      "userId": "12178979804161638768"
     },
     "user_tz": 300
    },
    "id": "4fcb8n_jNiuN",
    "outputId": "77e8a4f3-b771-468d-9670-7221014eca6f"
   },
   "outputs": [
    {
     "data": {
      "text/html": [
       "<div>\n",
       "<style scoped>\n",
       "    .dataframe tbody tr th:only-of-type {\n",
       "        vertical-align: middle;\n",
       "    }\n",
       "\n",
       "    .dataframe tbody tr th {\n",
       "        vertical-align: top;\n",
       "    }\n",
       "\n",
       "    .dataframe thead th {\n",
       "        text-align: right;\n",
       "    }\n",
       "</style>\n",
       "<table border=\"1\" class=\"dataframe\">\n",
       "  <thead>\n",
       "    <tr style=\"text-align: right;\">\n",
       "      <th></th>\n",
       "      <th>CID</th>\n",
       "      <th>salinity</th>\n",
       "      <th>srtm30</th>\n",
       "      <th>silicate</th>\n",
       "      <th>phosphate</th>\n",
       "      <th>nitrate</th>\n",
       "      <th>disso2</th>\n",
       "      <th>temp</th>\n",
       "      <th>geometry</th>\n",
       "      <th>lat</th>\n",
       "      <th>lng</th>\n",
       "    </tr>\n",
       "  </thead>\n",
       "  <tbody>\n",
       "    <tr>\n",
       "      <th>0</th>\n",
       "      <td>1</td>\n",
       "      <td>36.1645</td>\n",
       "      <td>-13.54730</td>\n",
       "      <td>2.14787</td>\n",
       "      <td>0.085490</td>\n",
       "      <td>0.672583</td>\n",
       "      <td>4.73538</td>\n",
       "      <td>26.0314</td>\n",
       "      <td>POINT (-82.22100 24.50021)</td>\n",
       "      <td>24.500212</td>\n",
       "      <td>-82.221000</td>\n",
       "    </tr>\n",
       "    <tr>\n",
       "      <th>1</th>\n",
       "      <td>1</td>\n",
       "      <td>35.8820</td>\n",
       "      <td>-5.29631</td>\n",
       "      <td>3.39048</td>\n",
       "      <td>0.081309</td>\n",
       "      <td>0.589654</td>\n",
       "      <td>4.82170</td>\n",
       "      <td>26.2659</td>\n",
       "      <td>POINT (-81.16694 25.14926)</td>\n",
       "      <td>25.149262</td>\n",
       "      <td>-81.166938</td>\n",
       "    </tr>\n",
       "    <tr>\n",
       "      <th>2</th>\n",
       "      <td>1</td>\n",
       "      <td>28.2685</td>\n",
       "      <td>5.36795</td>\n",
       "      <td>4.50515</td>\n",
       "      <td>0.220880</td>\n",
       "      <td>1.225100</td>\n",
       "      <td>4.74903</td>\n",
       "      <td>23.2961</td>\n",
       "      <td>POINT (-90.58674 29.24938)</td>\n",
       "      <td>29.249380</td>\n",
       "      <td>-90.586741</td>\n",
       "    </tr>\n",
       "    <tr>\n",
       "      <th>3</th>\n",
       "      <td>1</td>\n",
       "      <td>27.8134</td>\n",
       "      <td>-11.50460</td>\n",
       "      <td>2.30621</td>\n",
       "      <td>0.353542</td>\n",
       "      <td>2.226290</td>\n",
       "      <td>5.55894</td>\n",
       "      <td>14.3673</td>\n",
       "      <td>POINT (-76.05466 36.96940)</td>\n",
       "      <td>36.969399</td>\n",
       "      <td>-76.054661</td>\n",
       "    </tr>\n",
       "    <tr>\n",
       "      <th>4</th>\n",
       "      <td>1</td>\n",
       "      <td>16.0193</td>\n",
       "      <td>-4.73809</td>\n",
       "      <td>2.47356</td>\n",
       "      <td>0.409711</td>\n",
       "      <td>2.607220</td>\n",
       "      <td>5.76708</td>\n",
       "      <td>13.9874</td>\n",
       "      <td>POINT (-76.38891 39.27398)</td>\n",
       "      <td>39.273977</td>\n",
       "      <td>-76.388908</td>\n",
       "    </tr>\n",
       "  </tbody>\n",
       "</table>\n",
       "</div>"
      ],
      "text/plain": [
       "   CID  salinity    srtm30  ...                    geometry        lat        lng\n",
       "0    1   36.1645 -13.54730  ...  POINT (-82.22100 24.50021)  24.500212 -82.221000\n",
       "1    1   35.8820  -5.29631  ...  POINT (-81.16694 25.14926)  25.149262 -81.166938\n",
       "2    1   28.2685   5.36795  ...  POINT (-90.58674 29.24938)  29.249380 -90.586741\n",
       "3    1   27.8134 -11.50460  ...  POINT (-76.05466 36.96940)  36.969399 -76.054661\n",
       "4    1   16.0193  -4.73809  ...  POINT (-76.38891 39.27398)  39.273977 -76.388908\n",
       "\n",
       "[5 rows x 11 columns]"
      ]
     },
     "execution_count": 8,
     "metadata": {
      "tags": []
     },
     "output_type": "execute_result"
    }
   ],
   "source": [
    "# geospatial feature engineering\n",
    "\n",
    "coastline_attr_gpd[\"lat\"] = coastline_attr_gpd[\"geometry\"].y\n",
    "coastline_attr_gpd[\"lng\"] = coastline_attr_gpd[\"geometry\"].x\n",
    "coastline_attr_gpd.head()\n"
   ]
  },
  {
   "cell_type": "code",
   "execution_count": 9,
   "metadata": {
    "colab": {
     "base_uri": "https://localhost:8080/",
     "height": 204
    },
    "executionInfo": {
     "elapsed": 234,
     "status": "ok",
     "timestamp": 1614109103033,
     "user": {
      "displayName": "Yingjie Hu",
      "photoUrl": "https://lh3.googleusercontent.com/a-/AOh14GhQXNgYXyAZZlgqZjEhpeA47a8-StHEsk3hftJsYg=s64",
      "userId": "12178979804161638768"
     },
     "user_tz": 300
    },
    "id": "4825U_G_OCZE",
    "outputId": "036d74d6-f21c-4b8f-ef25-d2b524b0ddb0"
   },
   "outputs": [
    {
     "data": {
      "text/html": [
       "<div>\n",
       "<style scoped>\n",
       "    .dataframe tbody tr th:only-of-type {\n",
       "        vertical-align: middle;\n",
       "    }\n",
       "\n",
       "    .dataframe tbody tr th {\n",
       "        vertical-align: top;\n",
       "    }\n",
       "\n",
       "    .dataframe thead th {\n",
       "        text-align: right;\n",
       "    }\n",
       "</style>\n",
       "<table border=\"1\" class=\"dataframe\">\n",
       "  <thead>\n",
       "    <tr style=\"text-align: right;\">\n",
       "      <th></th>\n",
       "      <th>salinity</th>\n",
       "      <th>srtm30</th>\n",
       "      <th>silicate</th>\n",
       "      <th>phosphate</th>\n",
       "      <th>nitrate</th>\n",
       "      <th>disso2</th>\n",
       "      <th>temp</th>\n",
       "      <th>lat</th>\n",
       "      <th>lng</th>\n",
       "    </tr>\n",
       "  </thead>\n",
       "  <tbody>\n",
       "    <tr>\n",
       "      <th>0</th>\n",
       "      <td>36.1645</td>\n",
       "      <td>-13.54730</td>\n",
       "      <td>2.14787</td>\n",
       "      <td>0.085490</td>\n",
       "      <td>0.672583</td>\n",
       "      <td>4.73538</td>\n",
       "      <td>26.0314</td>\n",
       "      <td>24.500212</td>\n",
       "      <td>-82.221000</td>\n",
       "    </tr>\n",
       "    <tr>\n",
       "      <th>1</th>\n",
       "      <td>35.8820</td>\n",
       "      <td>-5.29631</td>\n",
       "      <td>3.39048</td>\n",
       "      <td>0.081309</td>\n",
       "      <td>0.589654</td>\n",
       "      <td>4.82170</td>\n",
       "      <td>26.2659</td>\n",
       "      <td>25.149262</td>\n",
       "      <td>-81.166938</td>\n",
       "    </tr>\n",
       "    <tr>\n",
       "      <th>2</th>\n",
       "      <td>28.2685</td>\n",
       "      <td>5.36795</td>\n",
       "      <td>4.50515</td>\n",
       "      <td>0.220880</td>\n",
       "      <td>1.225100</td>\n",
       "      <td>4.74903</td>\n",
       "      <td>23.2961</td>\n",
       "      <td>29.249380</td>\n",
       "      <td>-90.586741</td>\n",
       "    </tr>\n",
       "    <tr>\n",
       "      <th>3</th>\n",
       "      <td>27.8134</td>\n",
       "      <td>-11.50460</td>\n",
       "      <td>2.30621</td>\n",
       "      <td>0.353542</td>\n",
       "      <td>2.226290</td>\n",
       "      <td>5.55894</td>\n",
       "      <td>14.3673</td>\n",
       "      <td>36.969399</td>\n",
       "      <td>-76.054661</td>\n",
       "    </tr>\n",
       "    <tr>\n",
       "      <th>4</th>\n",
       "      <td>16.0193</td>\n",
       "      <td>-4.73809</td>\n",
       "      <td>2.47356</td>\n",
       "      <td>0.409711</td>\n",
       "      <td>2.607220</td>\n",
       "      <td>5.76708</td>\n",
       "      <td>13.9874</td>\n",
       "      <td>39.273977</td>\n",
       "      <td>-76.388908</td>\n",
       "    </tr>\n",
       "  </tbody>\n",
       "</table>\n",
       "</div>"
      ],
      "text/plain": [
       "   salinity    srtm30  silicate  ...     temp        lat        lng\n",
       "0   36.1645 -13.54730   2.14787  ...  26.0314  24.500212 -82.221000\n",
       "1   35.8820  -5.29631   3.39048  ...  26.2659  25.149262 -81.166938\n",
       "2   28.2685   5.36795   4.50515  ...  23.2961  29.249380 -90.586741\n",
       "3   27.8134 -11.50460   2.30621  ...  14.3673  36.969399 -76.054661\n",
       "4   16.0193  -4.73809   2.47356  ...  13.9874  39.273977 -76.388908\n",
       "\n",
       "[5 rows x 9 columns]"
      ]
     },
     "execution_count": 9,
     "metadata": {
      "tags": []
     },
     "output_type": "execute_result"
    }
   ],
   "source": [
    "coastline_data_all = coastline_attr_gpd[[\"salinity\",\"srtm30\",\"silicate\",\"phosphate\",\"nitrate\",\"disso2\",\"temp\",\"lat\",\"lng\"]]\n",
    "coastline_data_all.head()"
   ]
  },
  {
   "cell_type": "code",
   "execution_count": 10,
   "metadata": {
    "executionInfo": {
     "elapsed": 230,
     "status": "ok",
     "timestamp": 1614109226475,
     "user": {
      "displayName": "Yingjie Hu",
      "photoUrl": "https://lh3.googleusercontent.com/a-/AOh14GhQXNgYXyAZZlgqZjEhpeA47a8-StHEsk3hftJsYg=s64",
      "userId": "12178979804161638768"
     },
     "user_tz": 300
    },
    "id": "Y4PQ83ohOdES"
   },
   "outputs": [],
   "source": [
    "training_data = coastline_data_all.sample(frac=0.8, random_state=42)  \n",
    "test_data = coastline_data_all.drop(training_data.index)"
   ]
  },
  {
   "cell_type": "code",
   "execution_count": 11,
   "metadata": {
    "executionInfo": {
     "elapsed": 204,
     "status": "ok",
     "timestamp": 1614109252294,
     "user": {
      "displayName": "Yingjie Hu",
      "photoUrl": "https://lh3.googleusercontent.com/a-/AOh14GhQXNgYXyAZZlgqZjEhpeA47a8-StHEsk3hftJsYg=s64",
      "userId": "12178979804161638768"
     },
     "user_tz": 300
    },
    "id": "CfT4Lb1JOuxu"
   },
   "outputs": [],
   "source": [
    "training_label = training_data.pop(\"nitrate\")\n",
    "test_label = test_data.pop(\"nitrate\")"
   ]
  },
  {
   "cell_type": "code",
   "execution_count": 12,
   "metadata": {
    "colab": {
     "base_uri": "https://localhost:8080/",
     "height": 204
    },
    "executionInfo": {
     "elapsed": 199,
     "status": "ok",
     "timestamp": 1614109257910,
     "user": {
      "displayName": "Yingjie Hu",
      "photoUrl": "https://lh3.googleusercontent.com/a-/AOh14GhQXNgYXyAZZlgqZjEhpeA47a8-StHEsk3hftJsYg=s64",
      "userId": "12178979804161638768"
     },
     "user_tz": 300
    },
    "id": "XPF92KIhOw7h",
    "outputId": "c2d505ac-fcc9-48ac-a486-74ea9c0a56e1"
   },
   "outputs": [
    {
     "data": {
      "text/html": [
       "<div>\n",
       "<style scoped>\n",
       "    .dataframe tbody tr th:only-of-type {\n",
       "        vertical-align: middle;\n",
       "    }\n",
       "\n",
       "    .dataframe tbody tr th {\n",
       "        vertical-align: top;\n",
       "    }\n",
       "\n",
       "    .dataframe thead th {\n",
       "        text-align: right;\n",
       "    }\n",
       "</style>\n",
       "<table border=\"1\" class=\"dataframe\">\n",
       "  <thead>\n",
       "    <tr style=\"text-align: right;\">\n",
       "      <th></th>\n",
       "      <th>salinity</th>\n",
       "      <th>srtm30</th>\n",
       "      <th>silicate</th>\n",
       "      <th>phosphate</th>\n",
       "      <th>disso2</th>\n",
       "      <th>temp</th>\n",
       "      <th>lat</th>\n",
       "      <th>lng</th>\n",
       "    </tr>\n",
       "  </thead>\n",
       "  <tbody>\n",
       "    <tr>\n",
       "      <th>6252</th>\n",
       "      <td>33.1483</td>\n",
       "      <td>-56.1788</td>\n",
       "      <td>17.08550</td>\n",
       "      <td>1.138370</td>\n",
       "      <td>5.36714</td>\n",
       "      <td>9.83431</td>\n",
       "      <td>42.579380</td>\n",
       "      <td>-124.496989</td>\n",
       "    </tr>\n",
       "    <tr>\n",
       "      <th>4684</th>\n",
       "      <td>35.7009</td>\n",
       "      <td>-21.0945</td>\n",
       "      <td>1.38960</td>\n",
       "      <td>0.199679</td>\n",
       "      <td>5.05932</td>\n",
       "      <td>21.88080</td>\n",
       "      <td>34.580760</td>\n",
       "      <td>-77.202987</td>\n",
       "    </tr>\n",
       "    <tr>\n",
       "      <th>1731</th>\n",
       "      <td>35.4923</td>\n",
       "      <td>-17.9311</td>\n",
       "      <td>2.58428</td>\n",
       "      <td>0.131155</td>\n",
       "      <td>4.91319</td>\n",
       "      <td>23.08300</td>\n",
       "      <td>30.280428</td>\n",
       "      <td>-81.368064</td>\n",
       "    </tr>\n",
       "    <tr>\n",
       "      <th>4742</th>\n",
       "      <td>30.8778</td>\n",
       "      <td>-57.5877</td>\n",
       "      <td>15.09390</td>\n",
       "      <td>1.082800</td>\n",
       "      <td>6.37896</td>\n",
       "      <td>9.31756</td>\n",
       "      <td>48.201936</td>\n",
       "      <td>-122.636420</td>\n",
       "    </tr>\n",
       "    <tr>\n",
       "      <th>4521</th>\n",
       "      <td>32.6253</td>\n",
       "      <td>-68.5389</td>\n",
       "      <td>4.57709</td>\n",
       "      <td>0.671806</td>\n",
       "      <td>6.41385</td>\n",
       "      <td>7.43766</td>\n",
       "      <td>44.443662</td>\n",
       "      <td>-67.829796</td>\n",
       "    </tr>\n",
       "  </tbody>\n",
       "</table>\n",
       "</div>"
      ],
      "text/plain": [
       "      salinity   srtm30  silicate  ...      temp        lat         lng\n",
       "6252   33.1483 -56.1788  17.08550  ...   9.83431  42.579380 -124.496989\n",
       "4684   35.7009 -21.0945   1.38960  ...  21.88080  34.580760  -77.202987\n",
       "1731   35.4923 -17.9311   2.58428  ...  23.08300  30.280428  -81.368064\n",
       "4742   30.8778 -57.5877  15.09390  ...   9.31756  48.201936 -122.636420\n",
       "4521   32.6253 -68.5389   4.57709  ...   7.43766  44.443662  -67.829796\n",
       "\n",
       "[5 rows x 8 columns]"
      ]
     },
     "execution_count": 12,
     "metadata": {
      "tags": []
     },
     "output_type": "execute_result"
    }
   ],
   "source": [
    "training_data.head()"
   ]
  },
  {
   "cell_type": "code",
   "execution_count": 13,
   "metadata": {
    "colab": {
     "base_uri": "https://localhost:8080/"
    },
    "executionInfo": {
     "elapsed": 370,
     "status": "ok",
     "timestamp": 1614109278922,
     "user": {
      "displayName": "Yingjie Hu",
      "photoUrl": "https://lh3.googleusercontent.com/a-/AOh14GhQXNgYXyAZZlgqZjEhpeA47a8-StHEsk3hftJsYg=s64",
      "userId": "12178979804161638768"
     },
     "user_tz": 300
    },
    "id": "o2LLCU_KOys-",
    "outputId": "b85933e2-f3cf-4d1c-b780-9480ca79b506"
   },
   "outputs": [
    {
     "data": {
      "text/plain": [
       "(8000, 8)"
      ]
     },
     "execution_count": 13,
     "metadata": {
      "tags": []
     },
     "output_type": "execute_result"
    }
   ],
   "source": [
    "training_data.shape"
   ]
  },
  {
   "cell_type": "code",
   "execution_count": 14,
   "metadata": {
    "colab": {
     "base_uri": "https://localhost:8080/",
     "height": 297
    },
    "executionInfo": {
     "elapsed": 262,
     "status": "ok",
     "timestamp": 1614109405537,
     "user": {
      "displayName": "Yingjie Hu",
      "photoUrl": "https://lh3.googleusercontent.com/a-/AOh14GhQXNgYXyAZZlgqZjEhpeA47a8-StHEsk3hftJsYg=s64",
      "userId": "12178979804161638768"
     },
     "user_tz": 300
    },
    "id": "89oYX383O3A0",
    "outputId": "9a76f563-e59a-4643-cf9b-cc8c27c6873c"
   },
   "outputs": [
    {
     "data": {
      "text/html": [
       "<div>\n",
       "<style scoped>\n",
       "    .dataframe tbody tr th:only-of-type {\n",
       "        vertical-align: middle;\n",
       "    }\n",
       "\n",
       "    .dataframe tbody tr th {\n",
       "        vertical-align: top;\n",
       "    }\n",
       "\n",
       "    .dataframe thead th {\n",
       "        text-align: right;\n",
       "    }\n",
       "</style>\n",
       "<table border=\"1\" class=\"dataframe\">\n",
       "  <thead>\n",
       "    <tr style=\"text-align: right;\">\n",
       "      <th></th>\n",
       "      <th>count</th>\n",
       "      <th>mean</th>\n",
       "      <th>std</th>\n",
       "      <th>min</th>\n",
       "      <th>25%</th>\n",
       "      <th>50%</th>\n",
       "      <th>75%</th>\n",
       "      <th>max</th>\n",
       "    </tr>\n",
       "  </thead>\n",
       "  <tbody>\n",
       "    <tr>\n",
       "      <th>salinity</th>\n",
       "      <td>8000.0</td>\n",
       "      <td>32.076842</td>\n",
       "      <td>3.840187</td>\n",
       "      <td>12.673200</td>\n",
       "      <td>31.098200</td>\n",
       "      <td>32.422650</td>\n",
       "      <td>34.911700</td>\n",
       "      <td>36.830200</td>\n",
       "    </tr>\n",
       "    <tr>\n",
       "      <th>srtm30</th>\n",
       "      <td>8000.0</td>\n",
       "      <td>-23.863390</td>\n",
       "      <td>21.752314</td>\n",
       "      <td>-114.478000</td>\n",
       "      <td>-37.434100</td>\n",
       "      <td>-17.971800</td>\n",
       "      <td>-6.471520</td>\n",
       "      <td>9.989880</td>\n",
       "    </tr>\n",
       "    <tr>\n",
       "      <th>silicate</th>\n",
       "      <td>8000.0</td>\n",
       "      <td>5.366715</td>\n",
       "      <td>4.767795</td>\n",
       "      <td>0.883515</td>\n",
       "      <td>2.454580</td>\n",
       "      <td>3.482660</td>\n",
       "      <td>4.285680</td>\n",
       "      <td>17.366300</td>\n",
       "    </tr>\n",
       "    <tr>\n",
       "      <th>phosphate</th>\n",
       "      <td>8000.0</td>\n",
       "      <td>0.445437</td>\n",
       "      <td>0.349368</td>\n",
       "      <td>0.057359</td>\n",
       "      <td>0.150106</td>\n",
       "      <td>0.362048</td>\n",
       "      <td>0.604953</td>\n",
       "      <td>1.164930</td>\n",
       "    </tr>\n",
       "    <tr>\n",
       "      <th>disso2</th>\n",
       "      <td>8000.0</td>\n",
       "      <td>5.428788</td>\n",
       "      <td>0.673296</td>\n",
       "      <td>4.542900</td>\n",
       "      <td>4.801210</td>\n",
       "      <td>5.138250</td>\n",
       "      <td>6.166140</td>\n",
       "      <td>6.745130</td>\n",
       "    </tr>\n",
       "    <tr>\n",
       "      <th>temp</th>\n",
       "      <td>8000.0</td>\n",
       "      <td>16.639811</td>\n",
       "      <td>6.719949</td>\n",
       "      <td>7.092050</td>\n",
       "      <td>9.941270</td>\n",
       "      <td>14.367300</td>\n",
       "      <td>22.998700</td>\n",
       "      <td>26.763200</td>\n",
       "    </tr>\n",
       "    <tr>\n",
       "      <th>lat</th>\n",
       "      <td>8000.0</td>\n",
       "      <td>35.850917</td>\n",
       "      <td>7.253365</td>\n",
       "      <td>24.458206</td>\n",
       "      <td>29.442121</td>\n",
       "      <td>36.972908</td>\n",
       "      <td>41.565428</td>\n",
       "      <td>49.069979</td>\n",
       "    </tr>\n",
       "    <tr>\n",
       "      <th>lng</th>\n",
       "      <td>8000.0</td>\n",
       "      <td>-89.072117</td>\n",
       "      <td>18.564714</td>\n",
       "      <td>-124.821279</td>\n",
       "      <td>-94.770370</td>\n",
       "      <td>-81.845184</td>\n",
       "      <td>-75.784093</td>\n",
       "      <td>-66.884505</td>\n",
       "    </tr>\n",
       "  </tbody>\n",
       "</table>\n",
       "</div>"
      ],
      "text/plain": [
       "            count       mean        std  ...        50%        75%        max\n",
       "salinity   8000.0  32.076842   3.840187  ...  32.422650  34.911700  36.830200\n",
       "srtm30     8000.0 -23.863390  21.752314  ... -17.971800  -6.471520   9.989880\n",
       "silicate   8000.0   5.366715   4.767795  ...   3.482660   4.285680  17.366300\n",
       "phosphate  8000.0   0.445437   0.349368  ...   0.362048   0.604953   1.164930\n",
       "disso2     8000.0   5.428788   0.673296  ...   5.138250   6.166140   6.745130\n",
       "temp       8000.0  16.639811   6.719949  ...  14.367300  22.998700  26.763200\n",
       "lat        8000.0  35.850917   7.253365  ...  36.972908  41.565428  49.069979\n",
       "lng        8000.0 -89.072117  18.564714  ... -81.845184 -75.784093 -66.884505\n",
       "\n",
       "[8 rows x 8 columns]"
      ]
     },
     "execution_count": 14,
     "metadata": {
      "tags": []
     },
     "output_type": "execute_result"
    }
   ],
   "source": [
    "# standarize data\n",
    "training_stat = training_data.describe().transpose()\n",
    "training_stat"
   ]
  },
  {
   "cell_type": "code",
   "execution_count": 15,
   "metadata": {
    "executionInfo": {
     "elapsed": 829,
     "status": "ok",
     "timestamp": 1614109523109,
     "user": {
      "displayName": "Yingjie Hu",
      "photoUrl": "https://lh3.googleusercontent.com/a-/AOh14GhQXNgYXyAZZlgqZjEhpeA47a8-StHEsk3hftJsYg=s64",
      "userId": "12178979804161638768"
     },
     "user_tz": 300
    },
    "id": "g34TkVRqPGCt"
   },
   "outputs": [],
   "source": [
    "def standarize_data(data, stats):\n",
    "    return (data - stats['mean'])/ stats['std']"
   ]
  },
  {
   "cell_type": "code",
   "execution_count": 16,
   "metadata": {
    "executionInfo": {
     "elapsed": 217,
     "status": "ok",
     "timestamp": 1614109538821,
     "user": {
      "displayName": "Yingjie Hu",
      "photoUrl": "https://lh3.googleusercontent.com/a-/AOh14GhQXNgYXyAZZlgqZjEhpeA47a8-StHEsk3hftJsYg=s64",
      "userId": "12178979804161638768"
     },
     "user_tz": 300
    },
    "id": "bBQ5oXMBPPWu"
   },
   "outputs": [],
   "source": [
    "training_data_stded = standarize_data(training_data, training_stat)\n",
    "test_data_stded = standarize_data(test_data, training_stat)"
   ]
  },
  {
   "cell_type": "code",
   "execution_count": 17,
   "metadata": {
    "colab": {
     "base_uri": "https://localhost:8080/",
     "height": 204
    },
    "executionInfo": {
     "elapsed": 360,
     "status": "ok",
     "timestamp": 1614109543811,
     "user": {
      "displayName": "Yingjie Hu",
      "photoUrl": "https://lh3.googleusercontent.com/a-/AOh14GhQXNgYXyAZZlgqZjEhpeA47a8-StHEsk3hftJsYg=s64",
      "userId": "12178979804161638768"
     },
     "user_tz": 300
    },
    "id": "EG3q3mfkPSCh",
    "outputId": "bef9ad52-ca76-4202-8b12-f5bfe2a39638"
   },
   "outputs": [
    {
     "data": {
      "text/html": [
       "<div>\n",
       "<style scoped>\n",
       "    .dataframe tbody tr th:only-of-type {\n",
       "        vertical-align: middle;\n",
       "    }\n",
       "\n",
       "    .dataframe tbody tr th {\n",
       "        vertical-align: top;\n",
       "    }\n",
       "\n",
       "    .dataframe thead th {\n",
       "        text-align: right;\n",
       "    }\n",
       "</style>\n",
       "<table border=\"1\" class=\"dataframe\">\n",
       "  <thead>\n",
       "    <tr style=\"text-align: right;\">\n",
       "      <th></th>\n",
       "      <th>salinity</th>\n",
       "      <th>srtm30</th>\n",
       "      <th>silicate</th>\n",
       "      <th>phosphate</th>\n",
       "      <th>disso2</th>\n",
       "      <th>temp</th>\n",
       "      <th>lat</th>\n",
       "      <th>lng</th>\n",
       "    </tr>\n",
       "  </thead>\n",
       "  <tbody>\n",
       "    <tr>\n",
       "      <th>6252</th>\n",
       "      <td>0.279012</td>\n",
       "      <td>-1.485608</td>\n",
       "      <td>2.457905</td>\n",
       "      <td>1.983390</td>\n",
       "      <td>-0.091562</td>\n",
       "      <td>-1.012731</td>\n",
       "      <td>0.927633</td>\n",
       "      <td>-1.908183</td>\n",
       "    </tr>\n",
       "    <tr>\n",
       "      <th>4684</th>\n",
       "      <td>0.943719</td>\n",
       "      <td>0.127292</td>\n",
       "      <td>-0.834162</td>\n",
       "      <td>-0.703435</td>\n",
       "      <td>-0.548746</td>\n",
       "      <td>0.779915</td>\n",
       "      <td>-0.175113</td>\n",
       "      <td>0.639338</td>\n",
       "    </tr>\n",
       "    <tr>\n",
       "      <th>1731</th>\n",
       "      <td>0.889399</td>\n",
       "      <td>0.272720</td>\n",
       "      <td>-0.583590</td>\n",
       "      <td>-0.899572</td>\n",
       "      <td>-0.765783</td>\n",
       "      <td>0.958815</td>\n",
       "      <td>-0.767987</td>\n",
       "      <td>0.414984</td>\n",
       "    </tr>\n",
       "    <tr>\n",
       "      <th>4742</th>\n",
       "      <td>-0.312235</td>\n",
       "      <td>-1.550378</td>\n",
       "      <td>2.040185</td>\n",
       "      <td>1.824331</td>\n",
       "      <td>1.411225</td>\n",
       "      <td>-1.089629</td>\n",
       "      <td>1.702798</td>\n",
       "      <td>-1.807962</td>\n",
       "    </tr>\n",
       "    <tr>\n",
       "      <th>4521</th>\n",
       "      <td>0.142821</td>\n",
       "      <td>-2.053828</td>\n",
       "      <td>-0.165616</td>\n",
       "      <td>0.647939</td>\n",
       "      <td>1.463045</td>\n",
       "      <td>-1.369378</td>\n",
       "      <td>1.184656</td>\n",
       "      <td>1.144231</td>\n",
       "    </tr>\n",
       "  </tbody>\n",
       "</table>\n",
       "</div>"
      ],
      "text/plain": [
       "      salinity    srtm30  silicate  ...      temp       lat       lng\n",
       "6252  0.279012 -1.485608  2.457905  ... -1.012731  0.927633 -1.908183\n",
       "4684  0.943719  0.127292 -0.834162  ...  0.779915 -0.175113  0.639338\n",
       "1731  0.889399  0.272720 -0.583590  ...  0.958815 -0.767987  0.414984\n",
       "4742 -0.312235 -1.550378  2.040185  ... -1.089629  1.702798 -1.807962\n",
       "4521  0.142821 -2.053828 -0.165616  ... -1.369378  1.184656  1.144231\n",
       "\n",
       "[5 rows x 8 columns]"
      ]
     },
     "execution_count": 17,
     "metadata": {
      "tags": []
     },
     "output_type": "execute_result"
    }
   ],
   "source": [
    "training_data_stded.head()"
   ]
  },
  {
   "cell_type": "code",
   "execution_count": 18,
   "metadata": {
    "executionInfo": {
     "elapsed": 1562,
     "status": "ok",
     "timestamp": 1614109585329,
     "user": {
      "displayName": "Yingjie Hu",
      "photoUrl": "https://lh3.googleusercontent.com/a-/AOh14GhQXNgYXyAZZlgqZjEhpeA47a8-StHEsk3hftJsYg=s64",
      "userId": "12178979804161638768"
     },
     "user_tz": 300
    },
    "id": "fOKkEPt3PU6T"
   },
   "outputs": [],
   "source": [
    "import tensorflow as tf\n",
    "from tensorflow import keras"
   ]
  },
  {
   "cell_type": "code",
   "execution_count": 19,
   "metadata": {
    "executionInfo": {
     "elapsed": 23049,
     "status": "ok",
     "timestamp": 1614109672801,
     "user": {
      "displayName": "Yingjie Hu",
      "photoUrl": "https://lh3.googleusercontent.com/a-/AOh14GhQXNgYXyAZZlgqZjEhpeA47a8-StHEsk3hftJsYg=s64",
      "userId": "12178979804161638768"
     },
     "user_tz": 300
    },
    "id": "eRyj6igjPfDC"
   },
   "outputs": [],
   "source": [
    "tf.random.set_seed(42)\n",
    "\n",
    "dnn_model = keras.models.Sequential([\n",
    "       keras.layers.Dense(128,activation=\"relu\"),\n",
    "       keras.layers.Dense(128,activation=\"relu\"),\n",
    "       keras.layers.Dense(64,activation=\"relu\"),  \n",
    "       keras.layers.Dense(1),                             \n",
    "])\n",
    "\n",
    "dnn_model.compile(optimizer=\"adam\",loss=keras.losses.mean_absolute_error, metrics=[keras.metrics.mean_squared_error])\n",
    "\n",
    "history = dnn_model.fit(x=training_data_stded, y=training_label, validation_split=0.2, epochs=50, verbose=0)"
   ]
  },
  {
   "cell_type": "code",
   "execution_count": 20,
   "metadata": {
    "executionInfo": {
     "elapsed": 266,
     "status": "ok",
     "timestamp": 1614109713130,
     "user": {
      "displayName": "Yingjie Hu",
      "photoUrl": "https://lh3.googleusercontent.com/a-/AOh14GhQXNgYXyAZZlgqZjEhpeA47a8-StHEsk3hftJsYg=s64",
      "userId": "12178979804161638768"
     },
     "user_tz": 300
    },
    "id": "Q7tAQqYjQZyM"
   },
   "outputs": [],
   "source": [
    "import matplotlib.pyplot as plt\n",
    "def plot_loss(history):\n",
    "  plt.plot(history.history['loss'], label='loss')\n",
    "  plt.plot(history.history['val_loss'], label='val_loss')\n",
    "  plt.xlabel('Epoch')\n",
    "  plt.ylabel('Error [MAE]')\n",
    "  plt.legend()\n",
    "  plt.grid(True)"
   ]
  },
  {
   "cell_type": "code",
   "execution_count": 21,
   "metadata": {
    "colab": {
     "base_uri": "https://localhost:8080/",
     "height": 279
    },
    "executionInfo": {
     "elapsed": 772,
     "status": "ok",
     "timestamp": 1614109716065,
     "user": {
      "displayName": "Yingjie Hu",
      "photoUrl": "https://lh3.googleusercontent.com/a-/AOh14GhQXNgYXyAZZlgqZjEhpeA47a8-StHEsk3hftJsYg=s64",
      "userId": "12178979804161638768"
     },
     "user_tz": 300
    },
    "id": "RDS5j4vvQ6Iq",
    "outputId": "0b457e48-a038-444c-de8c-9af2fabf6b40"
   },
   "outputs": [
    {
     "data": {
      "image/png": "[encoded data removed]",
      "text/plain": [
       "<Figure size 432x288 with 1 Axes>"
      ]
     },
     "metadata": {
      "needs_background": "light",
      "tags": []
     },
     "output_type": "display_data"
    }
   ],
   "source": [
    "plot_loss(history)"
   ]
  },
  {
   "cell_type": "code",
   "execution_count": 22,
   "metadata": {
    "executionInfo": {
     "elapsed": 396,
     "status": "ok",
     "timestamp": 1614109763458,
     "user": {
      "displayName": "Yingjie Hu",
      "photoUrl": "https://lh3.googleusercontent.com/a-/AOh14GhQXNgYXyAZZlgqZjEhpeA47a8-StHEsk3hftJsYg=s64",
      "userId": "12178979804161638768"
     },
     "user_tz": 300
    },
    "id": "bSF-TysmTWO8"
   },
   "outputs": [],
   "source": [
    "y_pred = dnn_model.predict(test_data_stded)"
   ]
  },
  {
   "cell_type": "code",
   "execution_count": 23,
   "metadata": {
    "executionInfo": {
     "elapsed": 711,
     "status": "ok",
     "timestamp": 1614109782013,
     "user": {
      "displayName": "Yingjie Hu",
      "photoUrl": "https://lh3.googleusercontent.com/a-/AOh14GhQXNgYXyAZZlgqZjEhpeA47a8-StHEsk3hftJsYg=s64",
      "userId": "12178979804161638768"
     },
     "user_tz": 300
    },
    "id": "7LdrczImTn6w"
   },
   "outputs": [],
   "source": [
    "from sklearn.metrics import mean_absolute_error"
   ]
  },
  {
   "cell_type": "code",
   "execution_count": 24,
   "metadata": {
    "colab": {
     "base_uri": "https://localhost:8080/"
    },
    "executionInfo": {
     "elapsed": 214,
     "status": "ok",
     "timestamp": 1614109788630,
     "user": {
      "displayName": "Yingjie Hu",
      "photoUrl": "https://lh3.googleusercontent.com/a-/AOh14GhQXNgYXyAZZlgqZjEhpeA47a8-StHEsk3hftJsYg=s64",
      "userId": "12178979804161638768"
     },
     "user_tz": 300
    },
    "id": "_G76IsonTt_X",
    "outputId": "29e73736-f106-4db6-b690-8b67a6bff8de"
   },
   "outputs": [
    {
     "data": {
      "text/plain": [
       "0.024609675130356543"
      ]
     },
     "execution_count": 24,
     "metadata": {
      "tags": []
     },
     "output_type": "execute_result"
    }
   ],
   "source": [
    "mean_absolute_error(test_label,y_pred)"
   ]
  },
  {
   "cell_type": "code",
   "execution_count": 25,
   "metadata": {
    "colab": {
     "base_uri": "https://localhost:8080/"
    },
    "executionInfo": {
     "elapsed": 300,
     "status": "ok",
     "timestamp": 1614109876020,
     "user": {
      "displayName": "Yingjie Hu",
      "photoUrl": "https://lh3.googleusercontent.com/a-/AOh14GhQXNgYXyAZZlgqZjEhpeA47a8-StHEsk3hftJsYg=s64",
      "userId": "12178979804161638768"
     },
     "user_tz": 300
    },
    "id": "5KVFK19qUd3m",
    "outputId": "fd6cdca7-7e5d-4085-b331-08e3cce70329"
   },
   "outputs": [
    {
     "data": {
      "text/plain": [
       "0.17093385659397015"
      ]
     },
     "execution_count": 25,
     "metadata": {
      "tags": []
     },
     "output_type": "execute_result"
    }
   ],
   "source": [
    "# Comparison with a linear regression model\n",
    "\n",
    "from sklearn.linear_model import LinearRegression\n",
    "lin_model = LinearRegression()\n",
    "lin_model.fit(training_data_stded,training_label)\n",
    "y_pred2 = lin_model.predict(test_data_stded)\n",
    "mean_absolute_error(test_label,y_pred2)\n"
   ]
  },
  {
   "cell_type": "code",
   "execution_count": 26,
   "metadata": {
    "colab": {
     "base_uri": "https://localhost:8080/"
    },
    "executionInfo": {
     "elapsed": 1668,
     "status": "ok",
     "timestamp": 1614109998433,
     "user": {
      "displayName": "Yingjie Hu",
      "photoUrl": "https://lh3.googleusercontent.com/a-/AOh14GhQXNgYXyAZZlgqZjEhpeA47a8-StHEsk3hftJsYg=s64",
      "userId": "12178979804161638768"
     },
     "user_tz": 300
    },
    "id": "ASBF63A1fW74",
    "outputId": "de9bd737-5d1e-4188-c112-df1f659ad082"
   },
   "outputs": [
    {
     "data": {
      "text/plain": [
       "0.0032413272036177403"
      ]
     },
     "execution_count": 26,
     "metadata": {
      "tags": []
     },
     "output_type": "execute_result"
    }
   ],
   "source": [
    "# Comparison with random forest\n",
    "from sklearn.ensemble import RandomForestRegressor\n",
    "rf = RandomForestRegressor(min_samples_leaf=10, random_state=42)\n",
    "rf.fit(training_data_stded,training_label)\n",
    "y_pred3 = rf.predict(test_data_stded)\n",
    "mean_absolute_error(test_label,y_pred3)"
   ]
  },
  {
   "cell_type": "code",
   "execution_count": 27,
   "metadata": {
    "colab": {
     "base_uri": "https://localhost:8080/"
    },
    "executionInfo": {
     "elapsed": 4733,
     "status": "ok",
     "timestamp": 1614110294107,
     "user": {
      "displayName": "Yingjie Hu",
      "photoUrl": "https://lh3.googleusercontent.com/a-/AOh14GhQXNgYXyAZZlgqZjEhpeA47a8-StHEsk3hftJsYg=s64",
      "userId": "12178979804161638768"
     },
     "user_tz": 300
    },
    "id": "lhbhUL4o9MmA",
    "outputId": "ba1e8e47-e903-407f-949b-98fde6d101be"
   },
   "outputs": [
    {
     "name": "stdout",
     "output_type": "stream",
     "text": [
      "Collecting keras-tuner\n",
      "\u001b[?25l  Downloading https://files.pythonhosted.org/packages/20/ec/1ef246787174b1e2bb591c95f29d3c1310070cad877824f907faba3dade9/keras-tuner-1.0.2.tar.gz (62kB)\n",
      "\r\u001b[K     |█████▏                          | 10kB 24.2MB/s eta 0:00:01\r\u001b[K     |██████████▍                     | 20kB 31.0MB/s eta 0:00:01\r\u001b[K     |███████████████▋                | 30kB 21.4MB/s eta 0:00:01\r\u001b[K     |████████████████████▉           | 40kB 25.0MB/s eta 0:00:01\r\u001b[K     |██████████████████████████      | 51kB 26.2MB/s eta 0:00:01\r\u001b[K     |███████████████████████████████▎| 61kB 28.9MB/s eta 0:00:01\r\u001b[K     |████████████████████████████████| 71kB 10.1MB/s \n",
      "\u001b[?25hRequirement already satisfied: packaging in /usr/local/lib/python3.7/dist-packages (from keras-tuner) (20.9)\n",
      "Requirement already satisfied: future in /usr/local/lib/python3.7/dist-packages (from keras-tuner) (0.16.0)\n",
      "Requirement already satisfied: numpy in /usr/local/lib/python3.7/dist-packages (from keras-tuner) (1.19.5)\n",
      "Requirement already satisfied: tabulate in /usr/local/lib/python3.7/dist-packages (from keras-tuner) (0.8.8)\n",
      "Collecting terminaltables\n",
      "  Downloading https://files.pythonhosted.org/packages/9b/c4/4a21174f32f8a7e1104798c445dacdc1d4df86f2f26722767034e4de4bff/terminaltables-3.1.0.tar.gz\n",
      "Collecting colorama\n",
      "  Downloading https://files.pythonhosted.org/packages/44/98/5b86278fbbf250d239ae0ecb724f8572af1c91f4a11edf4d36a206189440/colorama-0.4.4-py2.py3-none-any.whl\n",
      "Requirement already satisfied: tqdm in /usr/local/lib/python3.7/dist-packages (from keras-tuner) (4.41.1)\n",
      "Requirement already satisfied: requests in /usr/local/lib/python3.7/dist-packages (from keras-tuner) (2.23.0)\n",
      "Requirement already satisfied: scipy in /usr/local/lib/python3.7/dist-packages (from keras-tuner) (1.4.1)\n",
      "Requirement already satisfied: scikit-learn in /usr/local/lib/python3.7/dist-packages (from keras-tuner) (0.22.2.post1)\n",
      "Requirement already satisfied: pyparsing>=2.0.2 in /usr/local/lib/python3.7/dist-packages (from packaging->keras-tuner) (2.4.7)\n",
      "Requirement already satisfied: urllib3!=1.25.0,!=1.25.1,<1.26,>=1.21.1 in /usr/local/lib/python3.7/dist-packages (from requests->keras-tuner) (1.24.3)\n",
      "Requirement already satisfied: chardet<4,>=3.0.2 in /usr/local/lib/python3.7/dist-packages (from requests->keras-tuner) (3.0.4)\n",
      "Requirement already satisfied: certifi>=2017.4.17 in /usr/local/lib/python3.7/dist-packages (from requests->keras-tuner) (2020.12.5)\n",
      "Requirement already satisfied: idna<3,>=2.5 in /usr/local/lib/python3.7/dist-packages (from requests->keras-tuner) (2.10)\n",
      "Requirement already satisfied: joblib>=0.11 in /usr/local/lib/python3.7/dist-packages (from scikit-learn->keras-tuner) (1.0.1)\n",
      "Building wheels for collected packages: keras-tuner, terminaltables\n",
      "  Building wheel for keras-tuner (setup.py) ... \u001b[?25l\u001b[?25hdone\n",
      "  Created wheel for keras-tuner: filename=keras_tuner-1.0.2-cp37-none-any.whl size=78938 sha256=69559615a4ef78b396bfb6459bc3c15f32bfcde27d5fa1ba0ad8d8dde4131695\n",
      "  Stored in directory: /root/.cache/pip/wheels/bb/a1/8a/7c3de0efb3707a1701b36ebbfdbc4e67aedf6d4943a1f463d6\n",
      "  Building wheel for terminaltables (setup.py) ... \u001b[?25l\u001b[?25hdone\n",
      "  Created wheel for terminaltables: filename=terminaltables-3.1.0-cp37-none-any.whl size=15356 sha256=6a1737df01ee78eade89fe18a61b483620b0abf048f4f6a65e82bb3865a619cc\n",
      "  Stored in directory: /root/.cache/pip/wheels/30/6b/50/6c75775b681fb36cdfac7f19799888ef9d8813aff9e379663e\n",
      "Successfully built keras-tuner terminaltables\n",
      "Installing collected packages: terminaltables, colorama, keras-tuner\n",
      "Successfully installed colorama-0.4.4 keras-tuner-1.0.2 terminaltables-3.1.0\n"
     ]
    }
   ],
   "source": [
    "!pip install keras-tuner"
   ]
  },
  {
   "cell_type": "code",
   "execution_count": 28,
   "metadata": {
    "executionInfo": {
     "elapsed": 215,
     "status": "ok",
     "timestamp": 1614110547045,
     "user": {
      "displayName": "Yingjie Hu",
      "photoUrl": "https://lh3.googleusercontent.com/a-/AOh14GhQXNgYXyAZZlgqZjEhpeA47a8-StHEsk3hftJsYg=s64",
      "userId": "12178979804161638768"
     },
     "user_tz": 300
    },
    "id": "19AnjhVDYKjL"
   },
   "outputs": [],
   "source": [
    "# Hyperparameter tuning\n",
    "\n",
    "def build_model(hp):\n",
    "  model = keras.models.Sequential()\n",
    "  for i in range(hp.Int(\"num_layer\",1,8)):\n",
    "    model.add(keras.layers.Dense(units=hp.Int(\"neuron_\"+str(i),16,128, step=32), activation=\"relu\"))\n",
    "  model.add(keras.layers.Dense(1))\n",
    "\n",
    "  model.compile(optimizer=\"adam\",loss=keras.losses.mean_absolute_error, metrics=[keras.metrics.mean_squared_error])\n",
    "  return model\n",
    "\n",
    "  "
   ]
  },
  {
   "cell_type": "code",
   "execution_count": 29,
   "metadata": {
    "executionInfo": {
     "elapsed": 406,
     "status": "ok",
     "timestamp": 1614110614122,
     "user": {
      "displayName": "Yingjie Hu",
      "photoUrl": "https://lh3.googleusercontent.com/a-/AOh14GhQXNgYXyAZZlgqZjEhpeA47a8-StHEsk3hftJsYg=s64",
      "userId": "12178979804161638768"
     },
     "user_tz": 300
    },
    "id": "bR5bmsxcZtCh"
   },
   "outputs": [],
   "source": [
    "from kerastuner.tuners import RandomSearch\n",
    "tuner = RandomSearch(build_model, objective=\"val_loss\", max_trials=5, seed=42)"
   ]
  },
  {
   "cell_type": "code",
   "execution_count": 30,
   "metadata": {
    "colab": {
     "base_uri": "https://localhost:8080/"
    },
    "executionInfo": {
     "elapsed": 15997,
     "status": "ok",
     "timestamp": 1614110676077,
     "user": {
      "displayName": "Yingjie Hu",
      "photoUrl": "https://lh3.googleusercontent.com/a-/AOh14GhQXNgYXyAZZlgqZjEhpeA47a8-StHEsk3hftJsYg=s64",
      "userId": "12178979804161638768"
     },
     "user_tz": 300
    },
    "id": "CNOFNfpjabhb",
    "outputId": "c9e0348e-186e-411d-b1ea-27f89dc6300e"
   },
   "outputs": [
    {
     "name": "stdout",
     "output_type": "stream",
     "text": [
      "Trial 5 Complete [00h 00m 03s]\n",
      "val_loss: 0.06036911904811859\n",
      "\n",
      "Best val_loss So Far: 0.06036911904811859\n",
      "Total elapsed time: 00h 00m 15s\n",
      "INFO:tensorflow:Oracle triggered exit\n"
     ]
    }
   ],
   "source": [
    "tuner.search(training_data_stded, training_label, validation_split=0.2, epochs=5)"
   ]
  },
  {
   "cell_type": "code",
   "execution_count": 32,
   "metadata": {
    "colab": {
     "base_uri": "https://localhost:8080/"
    },
    "executionInfo": {
     "elapsed": 191,
     "status": "ok",
     "timestamp": 1614110699192,
     "user": {
      "displayName": "Yingjie Hu",
      "photoUrl": "https://lh3.googleusercontent.com/a-/AOh14GhQXNgYXyAZZlgqZjEhpeA47a8-StHEsk3hftJsYg=s64",
      "userId": "12178979804161638768"
     },
     "user_tz": 300
    },
    "id": "dYtMpvxtax8a",
    "outputId": "459232a1-fc56-4f97-860c-21a58833b6b6"
   },
   "outputs": [
    {
     "name": "stdout",
     "output_type": "stream",
     "text": [
      "Results summary\n",
      "Results in ./untitled_project\n",
      "Showing 10 best trials\n",
      "Objective(name='val_loss', direction='min')\n",
      "Trial summary\n",
      "Hyperparameters:\n",
      "num_layer: 7\n",
      "neuron_0: 80\n",
      "neuron_1: 80\n",
      "neuron_2: 48\n",
      "neuron_3: 16\n",
      "neuron_4: 16\n",
      "neuron_5: 112\n",
      "neuron_6: 80\n",
      "neuron_7: 112\n",
      "Score: 0.06036911904811859\n",
      "Trial summary\n",
      "Hyperparameters:\n",
      "num_layer: 4\n",
      "neuron_0: 48\n",
      "neuron_1: 112\n",
      "neuron_2: 48\n",
      "neuron_3: 80\n",
      "neuron_4: 16\n",
      "Score: 0.06690361350774765\n",
      "Trial summary\n",
      "Hyperparameters:\n",
      "num_layer: 4\n",
      "neuron_0: 48\n",
      "neuron_1: 112\n",
      "neuron_2: 80\n",
      "neuron_3: 112\n",
      "neuron_4: 16\n",
      "Score: 0.07363893836736679\n",
      "Trial summary\n",
      "Hyperparameters:\n",
      "num_layer: 5\n",
      "neuron_0: 16\n",
      "neuron_1: 16\n",
      "neuron_2: 16\n",
      "neuron_3: 16\n",
      "neuron_4: 16\n",
      "Score: 0.0839233323931694\n",
      "Trial summary\n",
      "Hyperparameters:\n",
      "num_layer: 8\n",
      "neuron_0: 16\n",
      "neuron_1: 80\n",
      "neuron_2: 48\n",
      "neuron_3: 48\n",
      "neuron_4: 80\n",
      "neuron_5: 16\n",
      "neuron_6: 16\n",
      "neuron_7: 16\n",
      "Score: 0.08615695685148239\n"
     ]
    }
   ],
   "source": [
    "tuner.results_summary()"
   ]
  },
  {
   "cell_type": "code",
   "execution_count": 33,
   "metadata": {
    "executionInfo": {
     "elapsed": 18893,
     "status": "ok",
     "timestamp": 1614110872456,
     "user": {
      "displayName": "Yingjie Hu",
      "photoUrl": "https://lh3.googleusercontent.com/a-/AOh14GhQXNgYXyAZZlgqZjEhpeA47a8-StHEsk3hftJsYg=s64",
      "userId": "12178979804161638768"
     },
     "user_tz": 300
    },
    "id": "g2c4YhxLbBsU"
   },
   "outputs": [],
   "source": [
    "dnn_model = keras.models.Sequential([\n",
    "       keras.layers.Dense(80,activation=\"relu\"),\n",
    "       keras.layers.Dense(80,activation=\"relu\"),\n",
    "       keras.layers.Dense(48,activation=\"relu\"),\n",
    "       keras.layers.Dense(16,activation=\"relu\"),\n",
    "       keras.layers.Dense(16,activation=\"relu\"), \n",
    "       keras.layers.Dense(112,activation=\"relu\"), \n",
    "       keras.layers.Dense(80,activation=\"relu\"), \n",
    "       keras.layers.Dense(112,activation=\"relu\"), \n",
    "       keras.layers.Dense(1)\n",
    "       ])\n",
    "\n",
    "\n",
    "dnn_model.compile(optimizer=\"adam\",loss=keras.losses.mean_absolute_error, metrics=[keras.metrics.mean_squared_error])\n",
    "\n",
    "history = dnn_model.fit(x=training_data_stded, y=training_label, validation_split=0.2, epochs=50, verbose=0)"
   ]
  },
  {
   "cell_type": "code",
   "execution_count": 34,
   "metadata": {
    "colab": {
     "base_uri": "https://localhost:8080/"
    },
    "executionInfo": {
     "elapsed": 299,
     "status": "ok",
     "timestamp": 1614110879723,
     "user": {
      "displayName": "Yingjie Hu",
      "photoUrl": "https://lh3.googleusercontent.com/a-/AOh14GhQXNgYXyAZZlgqZjEhpeA47a8-StHEsk3hftJsYg=s64",
      "userId": "12178979804161638768"
     },
     "user_tz": 300
    },
    "id": "Ftt9ZkM3ec3h",
    "outputId": "cde8742b-f632-4881-df26-099e6e6f4ba8"
   },
   "outputs": [
    {
     "data": {
      "text/plain": [
       "0.06023966187162732"
      ]
     },
     "execution_count": 34,
     "metadata": {
      "tags": []
     },
     "output_type": "execute_result"
    }
   ],
   "source": [
    "y_pred = dnn_model.predict(test_data_stded)\n",
    "mean_absolute_error(test_label,y_pred)"
   ]
  },
  {
   "cell_type": "code",
   "execution_count": 35,
   "metadata": {
    "colab": {
     "base_uri": "https://localhost:8080/",
     "height": 279
    },
    "executionInfo": {
     "elapsed": 483,
     "status": "ok",
     "timestamp": 1614111112178,
     "user": {
      "displayName": "Yingjie Hu",
      "photoUrl": "https://lh3.googleusercontent.com/a-/AOh14GhQXNgYXyAZZlgqZjEhpeA47a8-StHEsk3hftJsYg=s64",
      "userId": "12178979804161638768"
     },
     "user_tz": 300
    },
    "id": "GYbxYekveyL0",
    "outputId": "6cbf176e-92df-41b9-9679-869b0dce77d4"
   },
   "outputs": [
    {
     "data": {
      "image/png": "[encoded data removed]",
      "text/plain": [
       "<Figure size 432x288 with 1 Axes>"
      ]
     },
     "metadata": {
      "needs_background": "light",
      "tags": []
     },
     "output_type": "display_data"
    }
   ],
   "source": [
    "plot_loss(history)"
   ]
  },
  {
   "cell_type": "code",
   "execution_count": 36,
   "metadata": {
    "colab": {
     "base_uri": "https://localhost:8080/",
     "height": 501
    },
    "executionInfo": {
     "elapsed": 438,
     "status": "ok",
     "timestamp": 1614111127948,
     "user": {
      "displayName": "Yingjie Hu",
      "photoUrl": "https://lh3.googleusercontent.com/a-/AOh14GhQXNgYXyAZZlgqZjEhpeA47a8-StHEsk3hftJsYg=s64",
      "userId": "12178979804161638768"
     },
     "user_tz": 300
    },
    "id": "iYnm-3MRgMPb",
    "outputId": "3209a205-5e49-4f06-a66d-a7a584462970"
   },
   "outputs": [
    {
     "data": {
      "image/png": "[encoded data removed]",
      "text/plain": [
       "<Figure size 576x576 with 1 Axes>"
      ]
     },
     "metadata": {
      "needs_background": "light",
      "tags": []
     },
     "output_type": "display_data"
    }
   ],
   "source": [
    "# Prediction scatter plot\n",
    "plt.figure(figsize=(8,8))\n",
    "plt.scatter(test_label, y_pred, s=15, c='blue')\n",
    "plt.xlabel(\"True Nitrate\")\n",
    "plt.ylabel(\"Predicted Nitrate\")\n",
    "lim = [0,10]\n",
    "plt.xlim(lim)\n",
    "plt.ylim(lim)\n",
    "refernce_line = plt.plot(lim,lim, \"r-\")"
   ]
  },
  {
   "cell_type": "code",
   "execution_count": 38,
   "metadata": {
    "executionInfo": {
     "elapsed": 196,
     "status": "ok",
     "timestamp": 1614111228502,
     "user": {
      "displayName": "Yingjie Hu",
      "photoUrl": "https://lh3.googleusercontent.com/a-/AOh14GhQXNgYXyAZZlgqZjEhpeA47a8-StHEsk3hftJsYg=s64",
      "userId": "12178979804161638768"
     },
     "user_tz": 300
    },
    "id": "fnCDVQmdf0SU"
   },
   "outputs": [],
   "source": [
    "# Save model\n",
    "dnn_model.save('/content/drive/MyDrive/Demo/my_dnn_model.h5')"
   ]
  },
  {
   "cell_type": "code",
   "execution_count": 39,
   "metadata": {
    "executionInfo": {
     "elapsed": 2599,
     "status": "ok",
     "timestamp": 1614111269917,
     "user": {
      "displayName": "Yingjie Hu",
      "photoUrl": "https://lh3.googleusercontent.com/a-/AOh14GhQXNgYXyAZZlgqZjEhpeA47a8-StHEsk3hftJsYg=s64",
      "userId": "12178979804161638768"
     },
     "user_tz": 300
    },
    "id": "64PwA1XHf-l2"
   },
   "outputs": [],
   "source": [
    "new_model = keras.models.load_model('/content/drive/MyDrive/Demo/my_dnn_model.h5')"
   ]
  },
  {
   "cell_type": "code",
   "execution_count": 40,
   "metadata": {
    "colab": {
     "base_uri": "https://localhost:8080/"
    },
    "executionInfo": {
     "elapsed": 188,
     "status": "ok",
     "timestamp": 1614111276049,
     "user": {
      "displayName": "Yingjie Hu",
      "photoUrl": "https://lh3.googleusercontent.com/a-/AOh14GhQXNgYXyAZZlgqZjEhpeA47a8-StHEsk3hftJsYg=s64",
      "userId": "12178979804161638768"
     },
     "user_tz": 300
    },
    "id": "7jdsASfpgJ_6",
    "outputId": "26731966-60aa-48eb-e8c8-b396d37658c5"
   },
   "outputs": [
    {
     "name": "stdout",
     "output_type": "stream",
     "text": [
      "Model: \"sequential_1\"\n",
      "_________________________________________________________________\n",
      "Layer (type)                 Output Shape              Param #   \n",
      "=================================================================\n",
      "dense_8 (Dense)              (None, 80)                720       \n",
      "_________________________________________________________________\n",
      "dense_9 (Dense)              (None, 80)                6480      \n",
      "_________________________________________________________________\n",
      "dense_10 (Dense)             (None, 48)                3888      \n",
      "_________________________________________________________________\n",
      "dense_11 (Dense)             (None, 16)                784       \n",
      "_________________________________________________________________\n",
      "dense_12 (Dense)             (None, 16)                272       \n",
      "_________________________________________________________________\n",
      "dense_13 (Dense)             (None, 112)               1904      \n",
      "_________________________________________________________________\n",
      "dense_14 (Dense)             (None, 80)                9040      \n",
      "_________________________________________________________________\n",
      "dense_15 (Dense)             (None, 112)               9072      \n",
      "_________________________________________________________________\n",
      "dense_16 (Dense)             (None, 1)                 113       \n",
      "=================================================================\n",
      "Total params: 32,273\n",
      "Trainable params: 32,273\n",
      "Non-trainable params: 0\n",
      "_________________________________________________________________\n"
     ]
    }
   ],
   "source": [
    "new_model.summary()"
   ]
  },
  {
   "cell_type": "code",
   "execution_count": null,
   "metadata": {
    "id": "i6xfsWlfgKuV"
   },
   "outputs": [],
   "source": [
    ""
   ]
  }
 ],
 "metadata": {
  "accelerator": "GPU",
  "colab": {
   "authorship_tag": "ABX9TyOyhlii9g0r8KjSfSlN0UEe",
   "collapsed_sections": [],
   "mount_file_id": "1_vpQ5jOZ4AoC6DvkD1ngilrJrY2ObMfU",
   "name": "Regression_Coastline_DNN.ipynb",
   "provenance": []
  },
  "kernelspec": {
   "display_name": "Python 3",
   "name": "python3"
  }
 },
 "nbformat": 4,
 "nbformat_minor": 0
}
